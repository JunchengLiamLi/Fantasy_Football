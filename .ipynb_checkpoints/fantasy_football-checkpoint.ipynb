{
 "cells": [
  {
   "cell_type": "code",
   "execution_count": 1,
   "id": "b0f123bb",
   "metadata": {},
   "outputs": [],
   "source": [
    "using DataFrames,CSV"
   ]
  },
  {
   "cell_type": "code",
   "execution_count": 14,
   "id": "74cdd24f",
   "metadata": {},
   "outputs": [],
   "source": [
    "players_df = DataFrame(CSV.File(\"FPL_players.csv\"));"
   ]
  },
  {
   "cell_type": "code",
   "execution_count": 15,
   "id": "d9a1bbd5",
   "metadata": {},
   "outputs": [],
   "source": [
    "struct player\n",
    "    name::String\n",
    "    team::String\n",
    "    position::String\n",
    "    cost::Float64\n",
    "    tot_points::Int\n",
    "    games_played::Int\n",
    "    start_prob::Float64\n",
    "end"
   ]
  },
  {
   "cell_type": "code",
   "execution_count": 16,
   "id": "f2c98a98",
   "metadata": {},
   "outputs": [],
   "source": [
    "players = [player(players_df[i,:]...) for i in 1:nrow(players_df)];"
   ]
  },
  {
   "cell_type": "markdown",
   "id": "0085541a",
   "metadata": {},
   "source": [
    "### Squad Size\n",
    "To join the game select a fantasy football squad of 15 players, consisting of:\n",
    "\n",
    "2 Goalkeepers\n",
    "5 Defenders\n",
    "5 Midfielders\n",
    "3 Forwards\n",
    "### Budget\n",
    "The total value of your initial squad must not exceed £100 million.\n",
    "\n",
    "### Players Per Team\n",
    "You can select up to 3 players from a single Premier League team."
   ]
  },
  {
   "cell_type": "code",
   "execution_count": 11,
   "id": "5c72a753",
   "metadata": {},
   "outputs": [
    {
     "data": {
      "text/plain": [
       "select_fpl_team (generic function with 1 method)"
      ]
     },
     "execution_count": 11,
     "metadata": {},
     "output_type": "execute_result"
    }
   ],
   "source": [
    "using JuMP,Cbc\n",
    "function find_teams_from_players(players::Vector{player})\n",
    "    teams = Vector{String}()\n",
    "    for player in players\n",
    "        if !(player.team in teams)\n",
    "            push!(teams, player.team)\n",
    "        end\n",
    "    end\n",
    "    teams\n",
    "end\n",
    "\n",
    "function select_fpl_team(players::Vector{player};solver=Cbc.Optimizer, use_player_values = true)\n",
    "    num_players = length(players)\n",
    "    team_selector = Model(solver)\n",
    "    @variable(team_selector, select_player[1:num_players], Bin)\n",
    "    \n",
    "    # select 2 goalkeepers\n",
    "    @constraint(team_selector, sum(select_player[i] for i in 1:num_players if players[i].position == \"GKP\") == 2);\n",
    "    # select 5 defenders\n",
    "    @constraint(team_selector, sum(select_player[i] for i in 1:num_players if players[i].position == \"DEF\") == 5);\n",
    "    # select 5 Midfielders\n",
    "    @constraint(team_selector, sum(select_player[i] for i in 1:num_players if players[i].position == \"MID\") == 5);\n",
    "    # select 3 Forwards\n",
    "    @constraint(team_selector, sum(select_player[i] for i in 1:num_players if players[i].position == \"FWD\") == 3);\n",
    "    \n",
    "    # do not spend over the budget\n",
    "    @constraint(team_selector, sum(select_player[i]*players[i].cost for i in 1:num_players) <= 100)\n",
    "    \n",
    "    # No more than 3 players from the same team\n",
    "    teams = find_teams_from_players(players)\n",
    "    @constraint(team_selector, [team in teams], sum(select_player[i] for i in 1:num_players if players[i].team == team) <= 3);\n",
    "    \n",
    "    # captain gets more points\n",
    "    # ----------------------------------------------------------------------------------\n",
    "    @variable(team_selector, select_captain[1:num_players], Bin)\n",
    "    @constraint(team_selector, sum(select_captain[i] for i in 1:num_players) == 1)\n",
    "    @constraint(team_selector, [i in 1:num_players], select_captain[i] <= select_player[i])\n",
    "    #------------------------------------------------------------------------------------\n",
    "    \n",
    "    # No more than 1 striker from the same team\n",
    "    \n",
    "    if use_player_values\n",
    "        # player values are used to capture the following intuition:\n",
    "        # 1. if 2 players play the same number of games, the one with higher total points is better\n",
    "        # 2. if 2 players have the same average points, the one with higher total points is better\n",
    "        # 3. if 2 players have the same total points, the one playing less games is better\n",
    "        # to be continued:\n",
    "        # 4. prefer players with easy fixture ahead, avoid players with difficult fixture ahead\n",
    "        # \n",
    "        player_values = [players[i].tot_points/sqrt(players[i].games_played)*players[i].start_prob for i in 1:num_players]\n",
    "        @objective(team_selector, Max, sum(select_player[i]*player_values[i] for i in 1:num_players)\n",
    "            +sum(select_captain[i]*0.5*player_values[i] for i in 1:num_players))\n",
    "    else\n",
    "        @objective(team_selector, Max, sum(select_player[i]*players[i].tot_points for i in 1:num_players)\n",
    "            +sum(select_captain[i]*0.5*players[i].tot_points for i in 1:num_players))\n",
    "    end\n",
    "    set_silent(team_selector)\n",
    "    optimize!(team_selector)\n",
    "    selected_players = [(players[i].name, players[i].team) for i in 1:num_players if value(select_player[i]) > 0.999] \n",
    "    return selected_players\n",
    "end"
   ]
  },
  {
   "cell_type": "code",
   "execution_count": 12,
   "id": "50d8b592",
   "metadata": {},
   "outputs": [
    {
     "data": {
      "text/plain": [
       "15-element Vector{Tuple{String, String}}:\n",
       " (\"Alisson\", \"LIV\")\n",
       " (\"Lloris\", \"TOT\")\n",
       " (\"Cancelo\", \"MCI\")\n",
       " (\"Van Dijk\", \"LIV\")\n",
       " (\"Matip\", \"LIV\")\n",
       " (\"Cash\", \"AVL\")\n",
       " (\"Gabriel \", \"ARS\")\n",
       " (\"Son\", \"TOT\")\n",
       " (\"Bowen\", \"WHU\")\n",
       " (\"Maddison\", \"LEI\")\n",
       " (\"Ward-Prouse\", \"SOU\")\n",
       " (\"Gallagher\", \"CHE\")\n",
       " (\"Toney\", \"BRE\")\n",
       " (\"Mbeumo\", \"BRE\")\n",
       " (\"Broja\", \"CHE\")"
      ]
     },
     "execution_count": 12,
     "metadata": {},
     "output_type": "execute_result"
    }
   ],
   "source": [
    "squad1 = select_fpl_team(players, use_last_season_points = true)"
   ]
  },
  {
   "cell_type": "code",
   "execution_count": 17,
   "id": "1270aa4b",
   "metadata": {},
   "outputs": [
    {
     "data": {
      "text/plain": [
       "15-element Vector{Tuple{String, String}}:\n",
       " (\"Alisson\", \"LIV\")\n",
       " (\"Sa\", \"WOL\")\n",
       " (\"Arnold\", \"LIV\")\n",
       " (\"Cancelo\", \"MCI\")\n",
       " (\"Robertson\", \"LIV\")\n",
       " (\"Cash\", \"AVL\")\n",
       " (\"Gabriel \", \"ARS\")\n",
       " (\"Bowen\", \"WHU\")\n",
       " (\"Maddison\", \"LEI\")\n",
       " (\"Ward-Prouse\", \"SOU\")\n",
       " (\"Bernado\", \"MCI\")\n",
       " (\"Zaha\", \"CRY\")\n",
       " (\"Toney\", \"BRE\")\n",
       " (\"Jesus\", \"ARS\")\n",
       " (\"Mbeumo\", \"BRE\")"
      ]
     },
     "execution_count": 17,
     "metadata": {},
     "output_type": "execute_result"
    }
   ],
   "source": [
    "squad2 = select_fpl_team(players)"
   ]
  },
  {
   "cell_type": "code",
   "execution_count": null,
   "id": "910f18b4",
   "metadata": {},
   "outputs": [],
   "source": []
  }
 ],
 "metadata": {
  "kernelspec": {
   "display_name": "Julia 1.6.3",
   "language": "julia",
   "name": "julia-1.6"
  },
  "language_info": {
   "file_extension": ".jl",
   "mimetype": "application/julia",
   "name": "julia",
   "version": "1.6.3"
  }
 },
 "nbformat": 4,
 "nbformat_minor": 5
}
